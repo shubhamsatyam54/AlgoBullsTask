{
 "cells": [
  {
   "cell_type": "markdown",
   "id": "1de989d9",
   "metadata": {
    "pycharm": {
     "name": "#%% md\n"
    }
   },
   "source": [
    "### Seting Basic Requirements"
   ]
  },
  {
   "cell_type": "code",
   "execution_count": null,
   "id": "109df3b9",
   "metadata": {
    "collapsed": false,
    "jupyter": {
     "outputs_hidden": false
    },
    "pycharm": {
     "name": "#%%\n"
    }
   },
   "outputs": [],
   "source": [
    "#Mention API key after receiving from alphavantage\n",
    "API_KEY=\"NV7WM3V2XY0A8N4Z\"\n"
   ]
  },
  {
   "cell_type": "code",
   "execution_count": null,
   "id": "a65001f4",
   "metadata": {
    "collapsed": false,
    "jupyter": {
     "outputs_hidden": false
    },
    "pycharm": {
     "name": "#%%\n"
    }
   },
   "outputs": [],
   "source": [
    "#importing required modules\n",
    "from alpha_vantage.timeseries import TimeSeries \n",
    "from pyalgotrading.constants import *\n",
    "from pyalgotrading.utils.func import plot_candlestick_chart \n",
    "import pandas as pd\n"
   ]
  },
  {
   "cell_type": "code",
   "execution_count": null,
   "id": "021d6fe5",
   "metadata": {
    "collapsed": false,
    "jupyter": {
     "outputs_hidden": false
    },
    "pycharm": {
     "name": "#%%\n"
    }
   },
   "outputs": [],
   "source": [
    "#initialize the access to alphvantage\n",
    "ts = TimeSeries(key=API_KEY)\n"
   ]
  },
  {
   "cell_type": "markdown",
   "id": "036d3a49",
   "metadata": {
    "pycharm": {
     "name": "#%% md\n"
    }
   },
   "source": [
    "###  Creating ScripData Class"
   ]
  },
  {
   "cell_type": "code",
   "execution_count": null,
   "id": "3cc62a16",
   "metadata": {
    "collapsed": false,
    "jupyter": {
     "outputs_hidden": false
    },
    "pycharm": {
     "name": "#%%\n"
    }
   },
   "outputs": [],
   "source": [
    "class ScriptData:\n",
    "    \"\"\"\n",
    "    Class to fetch and modify Stock data\n",
    "    \"\"\"\n",
    "\n",
    "    def __init__(self):\n",
    "        \"\"\"\n",
    "        Initializing with a dictionary variable for keeping the records\n",
    "        \"\"\"\n",
    "        self.records = {}\n",
    "\n",
    "    def __setitem__(self, key, value):\n",
    "        \"\"\"\n",
    "        setter method\n",
    "        \"\"\"\n",
    "        self.records[key] = value\n",
    "\n",
    "    def __getitem__(self, key):\n",
    "        \"\"\"\n",
    "        getter method\n",
    "        \"\"\"\n",
    "        try:\n",
    "            return self.records[key]\n",
    "        except Exception as e:\n",
    "            return e\n",
    "\n",
    "    def __contains__(self, key):\n",
    "        \"\"\"\n",
    "        container method\n",
    "        \"\"\"\n",
    "        if key in self.records.keys():\n",
    "            return True\n",
    "        return False\n",
    "\n",
    "    def fetch_intraday_data(self, script):\n",
    "        \"\"\"\n",
    "        method to fetch the data from alphavantage\n",
    "\n",
    "        :param: script: value for which data is to be fetched\n",
    "        \n",
    "        \"\"\"\n",
    "        try:\n",
    "            data, meta_data = ts.get_intraday(script,interval='60min')  # receives data\n",
    "            self[script] = data  # stores in the class \n",
    "        except Exception:\n",
    "            raise ValueError(f\"Wrong Script Name : {script}\")  # throws error for wrong input\n",
    "\n",
    "    def convert_intraday_data(self, script):\n",
    "        \"\"\"\n",
    "        method to transform the received data to a proper DataFrame.\n",
    "        \n",
    "        param: script: value for which data is to be transformed\n",
    "        \n",
    "        \"\"\"\n",
    "        try:\n",
    "            df = pd.DataFrame.from_dict(self[script], orient=\"index\",\n",
    "                                        dtype=float)  # convert the received data to pandas\n",
    "            df.reset_index(inplace=True)  # convert datetime to column from index\n",
    "            df.columns = [\"timestamp\", \"open\", \"high\", \"low\", \"close\", \"volume\"]  # renaming columns\n",
    "            df[\"timestamp\"] = df[\"timestamp\"].apply(\n",
    "                pd.Timestamp)  # changing data type of timestamp from object to timestamp\n",
    "            df[\"volume\"] = df[\"volume\"].astype(int)  # changing data type of volume from float to int\n",
    "            self[script] = df  # storing the transformed Dataframe back to the original location\n",
    "\n",
    "        except Exception:\n",
    "            # throws error if data is not fetch but transformation function is called\n",
    "            if script not in self:\n",
    "                raise KeyError(\n",
    "                    \"Run function fetch_intraday_data first \")\n",
    "            else:\n",
    "                return f\"Already Done!\"  # throws error if recalling this function\n"
   ]
  },
  {
   "cell_type": "code",
   "execution_count": null,
   "id": "91df8e30",
   "metadata": {
    "collapsed": false,
    "jupyter": {
     "outputs_hidden": false
    },
    "pycharm": {
     "name": "#%%\n"
    }
   },
   "outputs": [],
   "source": [
    "#creating instance of ScriptData class\n",
    "script_data=ScriptData()\n"
   ]
  },
  {
   "cell_type": "code",
   "execution_count": null,
   "id": "b118b5fd",
   "metadata": {
    "collapsed": false,
    "jupyter": {
     "outputs_hidden": false
    },
    "pycharm": {
     "name": "#%%\n"
    }
   },
   "outputs": [],
   "source": [
    "#calling fetch_intraday_data method for fetching data for script \"GOOGL\"\n",
    "script_data.fetch_intraday_data('GOOGL') \n",
    "\n",
    "#calling convert_intraday_data method for transforming data for script \"GOOGL\"\n",
    "script_data.convert_intraday_data('GOOGL')\n",
    "\n",
    "#printing the output for script \"GOOGL\"\n",
    "script_data['GOOGL']\n"
   ]
  },
  {
   "cell_type": "code",
   "execution_count": null,
   "id": "2f36e750",
   "metadata": {
    "collapsed": false,
    "jupyter": {
     "outputs_hidden": false
    },
    "pycharm": {
     "name": "#%%\n"
    }
   },
   "outputs": [],
   "source": [
    "#calling fetch_intraday_data method for fetching data for script \"AAPL\"\n",
    "script_data.fetch_intraday_data('AAPL')\n",
    "\n",
    "#calling convert_intraday_data method for transforming data for script \"AAPL\"\n",
    "script_data.convert_intraday_data('AAPL')\n",
    "\n",
    "#printing the output for script \"AAPL\"\n",
    "script_data['AAPL']\n"
   ]
  },
  {
   "cell_type": "code",
   "execution_count": null,
   "id": "90dc8d0f",
   "metadata": {
    "collapsed": false,
    "jupyter": {
     "outputs_hidden": false
    },
    "pycharm": {
     "name": "#%%\n"
    }
   },
   "outputs": [],
   "source": [
    "# checking for existence of script \"GOOGL\" in script_data instance\n",
    "'GOOGL' in script_data \n"
   ]
  },
  {
   "cell_type": "code",
   "execution_count": null,
   "id": "fa18c53c",
   "metadata": {
    "collapsed": false,
    "jupyter": {
     "outputs_hidden": false
    },
    "pycharm": {
     "name": "#%%\n"
    }
   },
   "outputs": [],
   "source": [
    "# checking for existence of script \"AAPL\" in script_data instance\n",
    "'AAPL' in script_data\n"
   ]
  },
  {
   "cell_type": "code",
   "execution_count": null,
   "id": "a3ca285c",
   "metadata": {
    "collapsed": false,
    "jupyter": {
     "outputs_hidden": false
    },
    "pycharm": {
     "name": "#%%\n"
    }
   },
   "outputs": [],
   "source": [
    "# checking for existence of script \"NVDA\" in script_data instance\n",
    "'NVDA' in script_data\n"
   ]
  },
  {
   "cell_type": "markdown",
   "id": "559a8c6d",
   "metadata": {
    "pycharm": {
     "name": "#%% md\n"
    }
   },
   "source": [
    "###  Creating Indicator1 function"
   ]
  },
  {
   "cell_type": "code",
   "execution_count": null,
   "id": "b403f11a",
   "metadata": {
    "collapsed": false,
    "jupyter": {
     "outputs_hidden": false
    },
    "pycharm": {
     "name": "#%%\n"
    }
   },
   "outputs": [],
   "source": [
    "def indicator1(df: pd.DataFrame, timeperiod: int = 5) -> pd.DataFrame:\n",
    "    \"\"\"\n",
    "    Function to find indicator for the given data:\n",
    "\n",
    "    :param: df: Dataframe for which indicator value has to be calculated \n",
    "                Dataframe with columns [\"timestamp\", \"open\", \"high\", \"low\", \"close\", \"volume\"]\n",
    "    :param: timeperiod: timeperiod for which average has to be calculated\n",
    "\n",
    "    :return: Dataframe with timestamp and indicator values\n",
    "\n",
    "    \"\"\"\n",
    "\n",
    "    try:\n",
    "        df[\"indicator\"] = df['close'].rolling(timeperiod).mean()  # calculating indicator value\n",
    "        return df[[\"timestamp\", \"indicator\"]].copy()  # returning the DataFrame with timestamp and indicator\n",
    "    except Exception as e:\n",
    "        print(e)  # printing any error if occurs\n"
   ]
  },
  {
   "cell_type": "code",
   "execution_count": null,
   "id": "a0e346c5",
   "metadata": {
    "collapsed": false,
    "jupyter": {
     "outputs_hidden": false
    },
    "pycharm": {
     "name": "#%%\n"
    }
   },
   "outputs": [],
   "source": [
    "#calling indicator function for script \"GOOGL\"\n",
    "indicator1(script_data['GOOGL'],timeperiod=5)\n"
   ]
  },
  {
   "cell_type": "code",
   "execution_count": null,
   "id": "6996fced",
   "metadata": {
    "collapsed": false,
    "jupyter": {
     "outputs_hidden": false
    },
    "pycharm": {
     "name": "#%%\n"
    }
   },
   "outputs": [],
   "source": [
    "#calling indicator function for script \"AAPL\"\n",
    "indicator1(script_data['AAPL'],timeperiod=5)\n"
   ]
  },
  {
   "cell_type": "markdown",
   "id": "cfdad081",
   "metadata": {
    "pycharm": {
     "name": "#%% md\n"
    }
   },
   "source": [
    "### Creating Strategy Class"
   ]
  },
  {
   "cell_type": "code",
   "execution_count": null,
   "id": "0d6319ce",
   "metadata": {
    "collapsed": false,
    "jupyter": {
     "outputs_hidden": false
    },
    "pycharm": {
     "name": "#%%\n"
    }
   },
   "outputs": [],
   "source": [
    "class Strategy(ScriptData):\n",
    "    \"\"\"\n",
    "    Class to calculate signals for given script\n",
    "    Inherits ScriptData class\n",
    "    \n",
    "    \"\"\"\n",
    "\n",
    "    def __init__(self, script):\n",
    "        \"\"\"\n",
    "        Initializing with script value and ScriptData class\n",
    "        \"\"\"\n",
    "\n",
    "        self.script = script  # initializing script value\n",
    "        ScriptData.__init__(self)  # calling supper class (ScriptData) __init__ function\n",
    "\n",
    "    def get_script_data(self):\n",
    "        self.fetch_intraday_data(self.script)  # calling inherited method to fetch data\n",
    "        self.convert_intraday_data(self.script)  # calling inherited meth to transform data\n",
    "\n",
    "    def get_signals(self):\n",
    "\n",
    "        \"\"\"\n",
    "        function to calculate signal\n",
    "        \"\"\"\n",
    "\n",
    "        try:\n",
    "\n",
    "            \"\"\"\n",
    "            Calling indicator function and storing in DataFrame signal \n",
    "            \n",
    "            Given\n",
    "                timeperiod = 5, can be change accordingly\n",
    "            \"\"\"\n",
    "            signal = indicator1(self[self.script], 5)\n",
    "            signal[\"close\"] = self[self.script].copy()[\n",
    "                \"close\"]  # adding close column from transformed data to signal Dataframe\n",
    "\n",
    "            signal[\"signal\"] = \"\"  # adding a blank signal column to the dataframe\n",
    "\n",
    "            \"\"\"\n",
    "            Comparing close and indicator value for start of finding cuts in the data\n",
    "            We compare on difference of the indicator value and close value\n",
    "            We calculate difference on first values of both then proceed next for the rest\n",
    "            \n",
    "            Case 1: There is no difference(indicator value = close value)\n",
    "                initialize threshold = None\n",
    "                \n",
    "            Case 2:  difference is +ve (indicator value > close value)\n",
    "                initialize threshold = True\n",
    "                \n",
    "            Case 3: difference is -ve (indicator value < close value)\n",
    "                initialize threshold = False\n",
    "            \"\"\"\n",
    "            threshold = None\n",
    "\n",
    "            if signal.loc[0, \"indicator\"] > signal.loc[0, \"close\"]:\n",
    "                threshold = True\n",
    "            if signal.loc[0, \"indicator\"] < signal.loc[0, \"close\"]:\n",
    "                threshold = False\n",
    "\n",
    "            # iterating for each of the row in dataframe\n",
    "            for idx, row in signal.iterrows():\n",
    "\n",
    "                if threshold is None:  # while there is no difference between indicator and close value\n",
    "\n",
    "                    if signal.loc[idx, \"indicator\"] > signal.loc[idx, \"close\"]:\n",
    "\n",
    "                        \"\"\"\n",
    "                        Case :  Difference becomes +ve \n",
    "                        Signal = BUY\n",
    "                        threshold = True\n",
    "                        \"\"\"\n",
    "\n",
    "                        signal.loc[idx, \"signal\"] = \"BUY\"\n",
    "                        threshold = True\n",
    "\n",
    "                    elif signal.loc[idx, \"indicator\"] < signal.loc[idx, \"close\"]:\n",
    "\n",
    "                        \"\"\"\n",
    "                        Case :  Difference becomes -ve \n",
    "                        Signal = SELL\n",
    "                        threshold = False\n",
    "                        \"\"\"\n",
    "                        signal.loc[idx, \"signal\"] = \"SELL\"\n",
    "                        threshold = False\n",
    "\n",
    "                    else:\n",
    "\n",
    "                        \"\"\"\n",
    "                        Case : No difference \n",
    "                        Signal = NO_SIGNAL\n",
    "\n",
    "                        \"\"\"\n",
    "                        signal.loc[idx, \"signal\"] = \"NO_SIGNAL\"\n",
    "\n",
    "                \"\"\"\n",
    "                Once there is a difference between close and indicator value (+ve or -ve)\n",
    "                The difference remains (+ve or -ve)    \n",
    "                \n",
    "                \"\"\"\n",
    "\n",
    "                if threshold:  # if difference remains positive for upcoming iterations\n",
    "\n",
    "                    if signal.loc[idx, \"indicator\"] < signal.loc[idx, \"close\"]:\n",
    "\n",
    "                        \"\"\"\n",
    "                        Case :  Difference becomes -ve from +ve\n",
    "                        Signal = SELL\n",
    "                        threshold = False\n",
    "                        \"\"\"\n",
    "                        signal.loc[idx, \"signal\"] = \"SELL\"\n",
    "                        threshold = False\n",
    "                    else:\n",
    "\n",
    "                        \"\"\"\n",
    "                        Case :  Difference becomes -ve from +ve\n",
    "                        Signal = NO_SIGNAL \n",
    "                        \"\"\"\n",
    "                        signal.loc[idx, \"signal\"] = \"NO_SIGNAL\"\n",
    "\n",
    "                elif not threshold:  # if difference remains negative for upcoming iterations\n",
    "\n",
    "                    if signal.loc[idx, \"indicator\"] > signal.loc[idx, \"close\"]:\n",
    "\n",
    "                        \"\"\"\n",
    "                        Case :  Difference becomes -ve from +ve\n",
    "                        Signal = BUY\n",
    "                        threshold = True\n",
    "                        \"\"\"\n",
    "                        signal.loc[idx, \"signal\"] = \"BUY\"\n",
    "                        threshold = True\n",
    "\n",
    "                    else:\n",
    "\n",
    "                        \"\"\"\n",
    "                        Case :  Difference becomes -ve from +ve\n",
    "                        Signal = NO_SIGNAL \n",
    "                        \"\"\"\n",
    "                        signal.loc[idx, \"signal\"] = \"NO_SIGNAL\"\n",
    "\n",
    "            signal = signal[signal[\"signal\"].isin([\"SELL\", \"BUY\"])]\n",
    "            signal = signal[[\"timestamp\", \"signal\"]].reset_index(drop=True)\n",
    "            return signal\n",
    "\n",
    "        except:\n",
    "            raise ValueError(f\"Script : {self.script} data does not exist. Please fetch data!\")\n"
   ]
  },
  {
   "cell_type": "code",
   "execution_count": null,
   "id": "1852ff34",
   "metadata": {
    "collapsed": false,
    "jupyter": {
     "outputs_hidden": false
    },
    "pycharm": {
     "name": "#%%\n"
    }
   },
   "outputs": [],
   "source": [
    "# Creating an instance of Strategy object\n",
    "strategy=Strategy(\"NVDA\")\n"
   ]
  },
  {
   "cell_type": "code",
   "execution_count": null,
   "id": "2800d7e6",
   "metadata": {
    "collapsed": false,
    "jupyter": {
     "outputs_hidden": false
    },
    "pycharm": {
     "name": "#%%\n"
    }
   },
   "outputs": [],
   "source": [
    "# Calling get_script_data to fetch transformed data\n",
    "strategy.get_script_data()\n"
   ]
  },
  {
   "cell_type": "code",
   "execution_count": null,
   "id": "1388882d",
   "metadata": {
    "collapsed": false,
    "jupyter": {
     "outputs_hidden": false
    },
    "pycharm": {
     "name": "#%%\n"
    }
   },
   "outputs": [],
   "source": [
    "# Calling get_signals to get signals output\n",
    "strategy.get_signals()\n"
   ]
  },
  {
   "cell_type": "markdown",
   "id": "93236de4",
   "metadata": {
    "pycharm": {
     "name": "#%% md\n"
    }
   },
   "source": [
    "### Plotting candlestick"
   ]
  },
  {
   "cell_type": "code",
   "execution_count": null,
   "id": "4d2601fc",
   "metadata": {
    "collapsed": false,
    "jupyter": {
     "outputs_hidden": false
    },
    "pycharm": {
     "name": "#%%\n"
    },
    "tags": []
   },
   "outputs": [],
   "source": [
    "\"\"\"\n",
    "Creating candlesticks graph with the use of pyalgotrading package\n",
    "\"\"\"\n",
    "\n",
    "#Creating a PlotType object  \n",
    "plottype=PlotType( \"JAPANESE\" )  \n",
    "\n",
    "#Creating indicator data for the function\n",
    "indicators=( {\"name\":\"SMA\",\n",
    "            \"data\":indicator1(script_data['AAPL'])[\"indicator\"],\n",
    "            \"extra\":{\"marker\" : {'color' : 'grey'}} },\n",
    "           ) \n",
    "\n",
    "plot_candlestick_chart(data=script_data['AAPL'], # define data\n",
    "      plot_type=plottype, # define PlotType\n",
    "      indicators=indicators, # define indicator\n",
    "      hide_missing_dates= True, # define True to remove blank spaces from the graph\n",
    "     )\n"
   ]
  }
 ],
 "metadata": {
  "kernelspec": {
   "display_name": "Python 3 (ipykernel)",
   "language": "python",
   "name": "python3"
  },
  "language_info": {
   "codemirror_mode": {
    "name": "ipython",
    "version": 3
   },
   "file_extension": ".py",
   "mimetype": "text/x-python",
   "name": "python",
   "nbconvert_exporter": "python",
   "pygments_lexer": "ipython3",
   "version": "3.9.13"
  }
 },
 "nbformat": 4,
 "nbformat_minor": 5
}
